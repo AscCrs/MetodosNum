{
 "cells": [
  {
   "attachments": {},
   "cell_type": "markdown",
   "metadata": {},
   "source": [
    "### Resolución de problemas utilizando métodos de integración numericos\n",
    "\n",
    "Se tiene el siguiente problema:\n",
    "Los límites de integración son $a = 0$ y $b = \\pi/2$, el número de puntos de integración es $n = 10$, y la función a integrar es $f(x) = \\sin{x}$. Y se busca resolver utilizando los métodos: \n",
    "- Por regla del Rectangulo \n",
    "- Del Trapecio\n",
    "- De Simpson\n",
    "- De Monte Carlo\n",
    "- De cuadra de Gauss\n",
    "\n",
    "Para poder resolver este problema, comenzaremos definiendo cada uno de los métodos:"
   ]
  },
  {
   "attachments": {},
   "cell_type": "markdown",
   "metadata": {},
   "source": [
    "#### Regla del Rectangulo\n",
    "\n",
    "En la regla del rectángulo, se divide el intervalo de integración [a, b] en un solo subintervalo y se aproxima la función f(x) con una constante igual al valor de la función en el punto medio del subintervalo. La aproximación de la integral es simplemente el área del rectángulo con base (b-a) y altura f((a+b)/2).\n",
    "\n",
    "Su definición matemática es la siguiente:\n",
    "\n",
    "$\\begin{equation}\n",
    "\\int_{a}^{b} f(x) dx \\approx (b-a) f(\\frac{a+b}{2})\n",
    "\\end{equation}$\n",
    "\n",
    "#### Método del Trapecio\n",
    "\n",
    "La regla del trapecio es un método para aproximar la integral definida de una función. Si se divide el intervalo de integración $[a,b]$ en $n$ subintervalos de igual ancho $h=(b-a)/n$, entonces la regla del trapecio se puede escribir matemáticamente de la siguiente manera:\n",
    "\n",
    "$\\begin{equation}\n",
    "\\int_a^b f(x) dx \\approx \\frac{b-a}{2} \\left[f(a) + f(b)\\right]\n",
    "\\end{equation}$\n",
    "\n",
    "donde $a$ y $b$ son los límites de integración, $f(x)$ es la función a integrar y el número de subintervalos de integración se fija en 1.\n",
    "\n",
    "La aproximación se obtiene al reemplazar el área bajo la curva de $f(x)$ en el intervalo $[a, b]$ por un trapecio con altura $(b-a)$ y bases $f(a)$ y $f(b)$.\n",
    "\n",
    "#### Regla de Simpson\n",
    "\n",
    "La regla de Simpson se basa en aproximar la función a integrar en cada subintervalo por un polinomio de segundo grado, y luego integrar analíticamente el polinomio resultante. Para ello, se utilizan tres puntos equidistantes en cada subintervalo y se ajusta un polinomio de segundo grado que pase por esos puntos. Luego se integra analíticamente el polinomio resultante para obtener la aproximación de la integral en el subintervalo. Finalmente, se suman todas las aproximaciones de los subintervalos para obtener la aproximación de la integral en el intervalo completo.\n",
    "\n",
    "La definición matemática de la regla de Simpson es la siguiente:\n",
    "\n",
    "$\\begin{equation}\n",
    "\\int_{a}^{b} f(x) , dx \\approx \\frac{h}{3} \\left[ f(a) + 4 \\sum_{i=1}^{n/2-1} f(a+2ih) + 2 \\sum_{i=1}^{n/2} f(a+(2i-1)h) + f(b) \\right]\n",
    "\\end{equation}$\n",
    "\n",
    "donde $h = (b-a)/n$ es el ancho de los subintervalos, $n$ es el número de puntos de integración y $f(x)$ es la función a integrar.\n",
    "\n",
    "#### Método de Monte Carlo\n",
    "\n",
    "$\\begin{equation}\n",
    "\\frac{b-a}{N}\\sum_{i=1}^{N}f(x_i)\n",
    "\\end{equation}$\n",
    "\n",
    "Donde $a$ y $b$ son los límites de integración, $N$ es el número de puntos aleatorios generados, $f(x_i)$ es la evaluación de la función en el punto aleatorio $x_i$ generado dentro del intervalo $[a, b]$.\n",
    "\n",
    "El método de Monte Carlo utiliza una aproximación por muestreo aleatorio para estimar la integral de una función en un intervalo dado. La idea básica del método es generar un conjunto aleatorio de puntos dentro del intervalo de integración y utilizar estos puntos para calcular una aproximación de la integral. A medida que se incrementa el número de puntos aleatorios, la aproximación converge a la integral real de la función.\n",
    "\n",
    "#### Cuadratura de Gauss\n",
    "\n",
    "La fórmula de cuadratura de Gauss-Legendre se utiliza para aproximar la integral de una función en el intervalo [-1, 1]. La fórmula es de la forma:\n",
    "\n",
    "$\\begin{equation}\n",
    "\\int_{-1}^{1} f(x) ,dx \\approx \\sum_{i=1}^{n} w_i f(x_i)\n",
    "\\end{equation}$\n",
    "\n",
    "donde $n$ es el número de puntos de integración, $w_i$ son los pesos de Gauss-Legendre y $x_i$ son las abscisas de Gauss-Legendre. Estos pesos y abscisas se pueden calcular usando las raíces de los polinomios de Legendre $P_n(x)$ de orden $n$.\n",
    "\n",
    "Las abscisas y los pesos se calculan mediante el siguiente algoritmo recursivo:\n",
    "\n",
    "Calcular las raíces del polinomio $P_n(x)$ usando el método de Newton-Raphson.\n",
    "Los pesos se calculan a partir de las raíces de la siguiente manera: $w_i = \\dfrac{2}{(1-x_i^2)[P_n'(x_i)]^2}$.\n",
    "Las abscisas se obtienen a partir de las raíces de $P_{n+1}(x)$ utilizando la relación $x_i = \\cos \\left(\\dfrac{(2i-1)\\pi}{2n}\\right)$.\n",
    "El número de raíces y por lo tanto de puntos de integración en la fórmula de cuadratura de Gauss-Legendre depende del grado del polinomio de Legendre utilizado, y se pueden encontrar tablas con las abscisas y los pesos precalculados para diferentes valores de $n$."
   ]
  },
  {
   "cell_type": "code",
   "execution_count": 9,
   "metadata": {},
   "outputs": [],
   "source": [
    "import numpy as np"
   ]
  },
  {
   "attachments": {},
   "cell_type": "markdown",
   "metadata": {},
   "source": [
    "Función para realizar la integración mediante el método del trapecio\n",
    "\n",
    "Parámetros:\n",
    "- f: función a integrar\n",
    "- a: límite inferior del intervalo\n",
    "- b: límite superior del intervalo\n",
    "- n: número de subintervalos"
   ]
  },
  {
   "cell_type": "code",
   "execution_count": 10,
   "metadata": {},
   "outputs": [],
   "source": [
    "def trapezoidal_integration(f, a, b, n):\n",
    "    # Calcula el tamaño del subintervalo\n",
    "    h = (b-a)/n\n",
    "    # Genera un arreglo de puntos equidistantes en el intervalo [a,b]\n",
    "    x = np.linspace(a, b, n+1)\n",
    "    # Calcula los valores de la función en los puntos equidistantes\n",
    "    y = f(x)\n",
    "    # Toma todos los valores de la función excepto el último\n",
    "    y_left = y[:-1]\n",
    "    # Toma todos los valores de la función excepto el primero\n",
    "    y_right = y[1:]\n",
    "    # Realiza la integración por el método del trapecio\n",
    "    return (h/2)*np.sum(y_left + y_right)"
   ]
  },
  {
   "attachments": {},
   "cell_type": "markdown",
   "metadata": {},
   "source": [
    "Función para realizar la integración mediante la regla de Simpson\n",
    "\n",
    "Parámetros:\n",
    "- f: función a integrar\n",
    "- a: límite inferior del intervalo\n",
    "- b: límite superior del intervalo\n",
    "- n: número de subintervalos"
   ]
  },
  {
   "cell_type": "code",
   "execution_count": 11,
   "metadata": {},
   "outputs": [],
   "source": [
    "def simpsons_integration(f, a, b, n):\n",
    "    # Ajusta el número de subintervalos para que sea par\n",
    "    if n % 2 != 0:\n",
    "        n += 1\n",
    "    # Calcula el tamaño del subintervalo\n",
    "    h = (b - a) / n\n",
    "    # Genera un arreglo de puntos equidistantes en el intervalo [a,b]\n",
    "    x = np.linspace(a, b, n+1)\n",
    "    # Calcula los valores de la función en los puntos equidistantes\n",
    "    y = f(x)\n",
    "    # Toma los valores de la función con índices pares\n",
    "    y_left = y[:-2:2]\n",
    "    # Toma los valores de la función con índices impares\n",
    "    y_middle = y[1::2]\n",
    "    # Toma los valores de la función con índices pares\n",
    "    y_right = y[2::2]\n",
    "    # Realiza la integración por la regla de Simpson\n",
    "    return (h/3) * np.sum(y_left + 4*y_middle + y_right)"
   ]
  },
  {
   "attachments": {},
   "cell_type": "markdown",
   "metadata": {},
   "source": [
    "Función para realizar la integración mediante el método de Monte Carlo\n",
    "\n",
    "Parámetros:\n",
    "- f: función a integrar\n",
    "- a: límite inferior del intervalo\n",
    "- b: límite superior del intervalo\n",
    "- n: número de subintervalos"
   ]
  },
  {
   "cell_type": "code",
   "execution_count": 12,
   "metadata": {},
   "outputs": [],
   "source": [
    "def monte_carlo_integration(f, a, b, n):\n",
    "    # Genera n puntos aleatorios en el intervalo [a,b]\n",
    "    x = np.random.uniform(a, b, n)\n",
    "    # Genera n puntos aleatorios en el intervalo [0, f(b)]\n",
    "    y = np.random.uniform(0, np.max(f(x)), n)\n",
    "    # Calcula el área de la caja que contiene a la función\n",
    "    area_box = (b-a)*np.max(f(x))\n",
    "    # Calcula el área debajo de la curva mediante el método de Monte Carlo\n",
    "    area_under_curve = area_box*np.sum(y < f(x))\n",
    "    return area_under_curve/n"
   ]
  },
  {
   "attachments": {},
   "cell_type": "markdown",
   "metadata": {},
   "source": [
    "Función para realizar la integración mediante el método de cuadratura Gaussiana\n",
    "\n",
    "Parámetros:\n",
    "- f: función a integrar\n",
    "- a: límite inferior del intervalo\n",
    "- b: límite superior del intervalo\n",
    "- n: número de subintervalos"
   ]
  },
  {
   "cell_type": "code",
   "execution_count": 13,
   "metadata": {},
   "outputs": [],
   "source": [
    "def gaussian_quadrature_integration(f, a, b, n):\n",
    "    # Calcula las raíces y los pesos de los polinomios de Legendre\n",
    "    x, w = np.polynomial.legendre.leggauss(n)\n",
    "    # Transforma las raíces a la escala del intervalo [a,b]\n",
    "    xp = 0.5*(b-a)*x + 0.5*(b+a)\n",
    "    # Transforma los pesos a la escala del intervalo [a,b]\n",
    "    wp = 0.5*(b-a)*w\n",
    "    # Realiza la integración por el método de cuadratura Gaussiana\n",
    "    return np.sum(wp*f(xp))"
   ]
  },
  {
   "attachments": {},
   "cell_type": "markdown",
   "metadata": {},
   "source": [
    "Función para realizar la integración mediante el método del rectangulo\n",
    "\n",
    "Parámetros:\n",
    "- f: función a integrar\n",
    "- a: límite inferior del intervalo\n",
    "- b: límite superior del intervalo\n",
    "- n: número de subintervalos"
   ]
  },
  {
   "cell_type": "code",
   "execution_count": 14,
   "metadata": {},
   "outputs": [],
   "source": [
    "def rectangle_integration(f, a, b, n):\n",
    "    # Cálculo del tamaño de los subintervalos\n",
    "    h = (b-a)/n\n",
    "    # Generación de los puntos x donde se evaluará la función\n",
    "    x = np.linspace(a, b, n+1)\n",
    "    # Evaluación de la función f en los puntos x, excepto el último\n",
    "    y = f(x[:-1])\n",
    "    # Cálculo de la aproximación de la integral mediante la regla del rectángulo\n",
    "    return h*np.sum(y)"
   ]
  },
  {
   "cell_type": "code",
   "execution_count": 15,
   "metadata": {},
   "outputs": [],
   "source": [
    "# Definición de la función a integrar sen(x)\n",
    "def f(x):\n",
    "    return np.sin(x)"
   ]
  },
  {
   "cell_type": "code",
   "execution_count": 16,
   "metadata": {},
   "outputs": [
    {
     "name": "stdout",
     "output_type": "stream",
     "text": [
      "Resultado de integración por el método del trapecio: 0.9979429863543572\n",
      "Resultado de integración por el método de Simpson's: 1.0000033922209006\n",
      "Resultado de integración por el método de Monte Carlo: 0.7803174787916738\n",
      "Resultado de integración por el método de Cuadratura Gaussiana: 1.0\n",
      "Resultado de integración por el método del Rectangulo: 0.9194031700146124\n"
     ]
    }
   ],
   "source": [
    "\n",
    "# Definición de las variables\n",
    "a, b = 0, np.pi/2\n",
    "n = 10\n",
    "\n",
    "trapezoidal_result = trapezoidal_integration(f, a, b, n)\n",
    "print(\"Resultado de integración por el método del trapecio:\", trapezoidal_result)\n",
    "\n",
    "simpsons_result = simpsons_integration(f, a, b, n)\n",
    "print(\"Resultado de integración por el método de Simpson's:\", simpsons_result)\n",
    "\n",
    "monte_carlo_result = monte_carlo_integration(f, a, b, n)\n",
    "print(\"Resultado de integración por el método de Monte Carlo:\", monte_carlo_result)\n",
    "\n",
    "gaussian_quadrature_result = gaussian_quadrature_integration(f, a, b, n)\n",
    "print(\"Resultado de integración por el método de Cuadratura Gaussiana:\", gaussian_quadrature_result)\n",
    "\n",
    "rectangle_result = rectangle_integration(f, a, b, n)\n",
    "print(\"Resultado de integración por el método del Rectangulo:\", rectangle_result)"
   ]
  }
 ],
 "metadata": {
  "kernelspec": {
   "display_name": "Python 3",
   "language": "python",
   "name": "python3"
  },
  "language_info": {
   "codemirror_mode": {
    "name": "ipython",
    "version": 3
   },
   "file_extension": ".py",
   "mimetype": "text/x-python",
   "name": "python",
   "nbconvert_exporter": "python",
   "pygments_lexer": "ipython3",
   "version": "3.11.1"
  },
  "orig_nbformat": 4
 },
 "nbformat": 4,
 "nbformat_minor": 2
}
