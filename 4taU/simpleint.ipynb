{
 "cells": [
  {
   "attachments": {},
   "cell_type": "markdown",
   "metadata": {},
   "source": [
    "### Resolución de problemas utilizando métodos de integración numericos\n",
    "\n",
    "Se tiene el siguiente problema:\n",
    "Los límites de integración son $a = 1$ y $b = 4$, el número de puntos de integración es $n = 20$, y la función a integrar es $f(x) = x^3 - 2x^2 + 3x - 4$. Y se busca resolver utilizando los métodos: \n",
    "- De integración del Trapecio\n",
    "- De integración utilizando la regla de Simpson\n",
    "- De integración utilizando el método de cuadratura de Gauss-Leggendre\n",
    "\n",
    "Para poder resolver este problema, comenzaremos definiendo cada uno de los métodos:"
   ]
  },
  {
   "attachments": {},
   "cell_type": "markdown",
   "metadata": {},
   "source": [
    "#### Método del Trapecio\n",
    "La regla del trapecio es un método para aproximar la integral definida de una función. Si se divide el intervalo de integración $[a,b]$ en $n$ subintervalos de igual ancho $h=(b-a)/n$, entonces la regla del trapecio se puede escribir matemáticamente de la siguiente manera:\n",
    "\n",
    "$\\begin{equation}\n",
    "\\int_a^b f(x) dx \\approx \\frac{b-a}{2} \\left[f(a) + f(b)\\right]\n",
    "\\end{equation}$\n",
    "\n",
    "donde $a$ y $b$ son los límites de integración, $f(x)$ es la función a integrar y el número de subintervalos de integración se fija en 1.\n",
    "\n",
    "La aproximación se obtiene al reemplazar el área bajo la curva de $f(x)$ en el intervalo $[a, b]$ por un trapecio con altura $(b-a)$ y bases $f(a)$ y $f(b)$."
   ]
  },
  {
   "attachments": {},
   "cell_type": "markdown",
   "metadata": {},
   "source": [
    "#### Regla de Simpson\n",
    "La regla de Simpson se basa en aproximar la función a integrar en cada subintervalo por un polinomio de segundo grado, y luego integrar analíticamente el polinomio resultante. Para ello, se utilizan tres puntos equidistantes en cada subintervalo y se ajusta un polinomio de segundo grado que pase por esos puntos. Luego se integra analíticamente el polinomio resultante para obtener la aproximación de la integral en el subintervalo. Finalmente, se suman todas las aproximaciones de los subintervalos para obtener la aproximación de la integral en el intervalo completo.\n",
    "\n",
    "La definición matemática de la regla de Simpson es la siguiente:\n",
    "\n",
    "$\\begin{equation}\n",
    "\\int_{a}^{b} f(x) , dx \\approx \\frac{h}{3} \\left[ f(a) + 4 \\sum_{i=1}^{n/2-1} f(a+2ih) + 2 \\sum_{i=1}^{n/2} f(a+(2i-1)h) + f(b) \\right]\n",
    "\\end{equation}$\n",
    "\n",
    "donde $h = (b-a)/n$ es el ancho de los subintervalos, $n$ es el número de puntos de integración y $f(x)$ es la función a integrar."
   ]
  },
  {
   "attachments": {},
   "cell_type": "markdown",
   "metadata": {},
   "source": [
    "#### Cuadratura de Gauss-Laggendre\n",
    "La fórmula de cuadratura de Gauss-Legendre se utiliza para aproximar la integral de una función en el intervalo [-1, 1]. La fórmula es de la forma:\n",
    "\n",
    "$\\begin{equation}\n",
    "\\int_{-1}^{1} f(x) ,dx \\approx \\sum_{i=1}^{n} w_i f(x_i)\n",
    "\\end{equation}$\n",
    "\n",
    "donde $n$ es el número de puntos de integración, $w_i$ son los pesos de Gauss-Legendre y $x_i$ son las abscisas de Gauss-Legendre. Estos pesos y abscisas se pueden calcular usando las raíces de los polinomios de Legendre $P_n(x)$ de orden $n$.\n",
    "\n",
    "Las abscisas y los pesos se calculan mediante el siguiente algoritmo recursivo:\n",
    "\n",
    "Calcular las raíces del polinomio $P_n(x)$ usando el método de Newton-Raphson.\n",
    "Los pesos se calculan a partir de las raíces de la siguiente manera: $w_i = \\dfrac{2}{(1-x_i^2)[P_n'(x_i)]^2}$.\n",
    "Las abscisas se obtienen a partir de las raíces de $P_{n+1}(x)$ utilizando la relación $x_i = \\cos \\left(\\dfrac{(2i-1)\\pi}{2n}\\right)$.\n",
    "El número de raíces y por lo tanto de puntos de integración en la fórmula de cuadratura de Gauss-Legendre depende del grado del polinomio de Legendre utilizado, y se pueden encontrar tablas con las abscisas y los pesos precalculados para diferentes valores de $n$."
   ]
  },
  {
   "attachments": {},
   "cell_type": "markdown",
   "metadata": {},
   "source": [
    "##### Dado lo anterior, para la implementación en Python, primero se deben importar las librerias correspondientes"
   ]
  },
  {
   "cell_type": "code",
   "execution_count": 1,
   "metadata": {},
   "outputs": [],
   "source": [
    "import numpy as np\n",
    "from scipy.integrate import fixed_quad"
   ]
  },
  {
   "attachments": {},
   "cell_type": "markdown",
   "metadata": {},
   "source": [
    "! Para todas las funciones, los parametros que reciben son:\n",
    "\n",
    "* f: es la función que se desea integrar.\n",
    "* a: es el límite inferior del intervalo de integración.\n",
    "* b: es el límite superior del intervalo de integración.\n",
    "* n: es el número de subintervalos que se desean utilizar en la integración."
   ]
  },
  {
   "cell_type": "code",
   "execution_count": 2,
   "metadata": {},
   "outputs": [],
   "source": [
    "# Definición de la regla del trapecio\n",
    "def trapezoidal_integration(f, a, b, n):\n",
    "    h = (b-a)/n  # calcula el ancho de cada subintervalo\n",
    "    x = np.linspace(a, b, n+1)  # genera los puntos equidistantes a lo largo del intervalo\n",
    "    y = f(x)  # evalúa la función en los puntos x generados\n",
    "    y_left = y[:-1]  # guarda los valores de la función en la izquierda de cada subintervalo\n",
    "    y_right = y[1:]  # guarda los valores de la función en la derecha de cada subintervalo\n",
    "    return (h/2) * np.sum(y_left + y_right)  # aplica la fórmula de la regla del trapecio y retorna el resultado"
   ]
  },
  {
   "cell_type": "code",
   "execution_count": 3,
   "metadata": {},
   "outputs": [],
   "source": [
    "# Definición de la regla de Simpson\n",
    "def simpsons_integration(f, a, b, n):\n",
    "    # Calcula el tamaño del intervalo\n",
    "    h = (b-a)/n\n",
    "    # Genera puntos equidistantes en el intervalo\n",
    "    x = np.linspace(a, b, n+1)\n",
    "    # Calcula los valores de la función en los puntos generados\n",
    "    y = f(x)\n",
    "    # Selecciona los valores de la función en los extremos izquierdo y derecho del intervalo\n",
    "    y_left = y[:-2:2]\n",
    "    y_right = y[2::2]\n",
    "    # Selecciona los valores de la función en el punto medio del intervalo\n",
    "    y_middle = y[1:-1:2]\n",
    "    # Aplica la regla de Simpson\n",
    "    return (h/3) * np.sum(y_left + 4*y_middle + y_right)"
   ]
  },
  {
   "attachments": {},
   "cell_type": "markdown",
   "metadata": {},
   "source": [
    "La función gaussian_quadrature_weights recibe un entero n que indica el número de puntos \n",
    "de integración deseado. En función de este valor, se determinan las abscisas y pesos \n",
    "correspondientes para la cuadratura gaussiana.\n",
    "\n",
    "Si n es igual a 1, se devuelve un único punto y su peso, 0 y 2 respectivamente, \n",
    "ya que la cuadratura gaussiana es exacta para funciones polinómicas de grado menor o igual a 1.\n",
    "\n",
    "Si n es igual a 2, se devuelven dos puntos y pesos iguales, correspondientes a \n",
    "la cuadratura gaussiana en el intervalo [-1, 1]. Estos valores se eligen de tal \n",
    "manera que la cuadratura gaussiana sea exacta para funciones polinómicas de grado \n",
    "menor o igual a 3.\n",
    "\n",
    "Si n es igual a 3, se devuelven tres puntos y pesos correspondientes a la cuadratura \n",
    "gaussiana en el intervalo [-1, 1]. Estos valores se eligen de tal manera que la cuadratura \n",
    "gaussiana sea exacta para funciones polinómicas de grado menor o igual a 5.\n",
    "\n",
    "Si n es igual a 4, se devuelven cuatro puntos y pesos correspondientes a la cuadratura \n",
    "gaussiana en el intervalo [-1, 1]. Estos valores se eligen de tal manera que la cuadratura \n",
    "gaussiana sea exacta para funciones polinómicas de grado menor o igual a 7.\n",
    "\n",
    "Si n es mayor o igual a 5, se utilizan las abscisas y pesos obtenidos a partir de la \n",
    "fórmula recursiva de Legendre, que genera los valores para la cuadratura gaussiana a \n",
    "partir de los polinomios de Legendre.\n",
    "\n",
    "Si n no es un valor válido, se genera un error ValueError.\n",
    "\n",
    "La función devuelve dos arrays de numpy, uno con las abscisas y otro con los pesos \n",
    "correspondientes para la cuadratura gaussiana de n puntos."
   ]
  },
  {
   "cell_type": "code",
   "execution_count": 4,
   "metadata": {},
   "outputs": [],
   "source": [
    "def gaussian_quadrature_weights(n):\n",
    "    # Definimos la cuadratura para distintos valores de n\n",
    "    if n == 1:\n",
    "        x = np.array([0.0])\n",
    "        w = np.array([2.0])\n",
    "    elif n == 2:\n",
    "        x = np.array([-np.sqrt(1/3), np.sqrt(1/3)])\n",
    "        w = np.array([1.0, 1.0])\n",
    "    elif n == 3:\n",
    "        x = np.array([-np.sqrt(3/5), 0.0, np.sqrt(3/5)])\n",
    "        w = np.array([5/9, 8/9, 5/9])\n",
    "    elif n == 4:\n",
    "        x = np.array([-np.sqrt((3+2*np.sqrt(6/5))/7), -np.sqrt((3-2*np.sqrt(6/5))/7),\n",
    "                      np.sqrt((3-2*np.sqrt(6/5))/7), np.sqrt((3+2*np.sqrt(6/5))/7)])\n",
    "        w = np.array([(18-np.sqrt(30))/36, (18+np.sqrt(30))/36, (18+np.sqrt(30))/36, (18-np.sqrt(30))/36])\n",
    "    elif n >= 5:\n",
    "        # Si n es mayor o igual a 5, usar la fórmula recursiva de Legendre-Gauss\n",
    "        x, w = np.polynomial.legendre.leggauss(n)\n",
    "    else:\n",
    "        # Si n no es un valor válido, lanzar una excepción\n",
    "        raise ValueError(\"Número de puntos de integración no válido\")\n",
    "    # Devolvemos los pesos y abscisas\n",
    "    return x, w"
   ]
  },
  {
   "cell_type": "code",
   "execution_count": 5,
   "metadata": {},
   "outputs": [],
   "source": [
    "# Definición del método de cuadratura de Gauss\n",
    "def gaussian_quadrature_integration(f, a, b, n):\n",
    "    # Obtiene las abscisas (x) y pesos (w) para el método de cuadratura de Gauss\n",
    "    x, w = gaussian_quadrature_weights(n)\n",
    "    # Ajusta los pesos y abscisas al intervalo de integración [a,b]\n",
    "    x_adjusted = 0.5*(b-a)*x + 0.5*(b+a)\n",
    "    w_adjusted = 0.5*(b-a)*w\n",
    "    # Calcula la aproximación de la integral utilizando los pesos y abscisas ajustados\n",
    "    integral_approx = np.sum(w_adjusted * f(x_adjusted))\n",
    "    # Devuelve la aproximación de la integral\n",
    "    return integral_approx"
   ]
  },
  {
   "cell_type": "code",
   "execution_count": 6,
   "metadata": {},
   "outputs": [],
   "source": [
    "# Definición de la función a integrar\n",
    "def f(x):\n",
    "    return x**3 - 2*x**2 + 3*x - 4"
   ]
  },
  {
   "cell_type": "code",
   "execution_count": 7,
   "metadata": {},
   "outputs": [
    {
     "name": "stdout",
     "output_type": "stream",
     "text": [
      "Resultado de integración por el método del Trapecio: 32.311875\n",
      "Resultado de integración por la regla de Simpson's: 32.25\n",
      "Resultado de integración por el método de Caudratura de Gauss: 32.250000000000014\n"
     ]
    }
   ],
   "source": [
    "\n",
    "# Límites de integración\n",
    "a, b = 1, 4  # Intervalo de integración\n",
    "n = 20  # Número de puntos de integración\n",
    "# Aproximación de la integral utilizando la regla del trapecio\n",
    "trapezoidal_result = trapezoidal_integration(f, a, b, n)\n",
    "print(\"Resultado de integración por el método del Trapecio:\", trapezoidal_result)\n",
    "# Aproximación de la integral utilizando la regla de Simpson\n",
    "simpsons_result = simpsons_integration(f, a, b, n)\n",
    "print(\"Resultado de integración por la regla de Simpson's:\", simpsons_result)\n",
    "# Aproximación de la integral utilizando el método de cuadratura de Gauss\n",
    "gaussian_quadrature_result = gaussian_quadrature_integration(f, a, b, n)\n",
    "print(\"Resultado de integración por el método de Caudratura de Gauss:\", gaussian_quadrature_result)"
   ]
  }
 ],
 "metadata": {
  "kernelspec": {
   "display_name": "Python 3",
   "language": "python",
   "name": "python3"
  },
  "language_info": {
   "codemirror_mode": {
    "name": "ipython",
    "version": 3
   },
   "file_extension": ".py",
   "mimetype": "text/x-python",
   "name": "python",
   "nbconvert_exporter": "python",
   "pygments_lexer": "ipython3",
   "version": "3.11.1"
  },
  "orig_nbformat": 4
 },
 "nbformat": 4,
 "nbformat_minor": 2
}
